{
  "cells": [
    {
      "cell_type": "code",
      "execution_count": null,
      "metadata": {
        "id": "qenv8YLNpUlZ"
      },
      "outputs": [],
      "source": [
        "##Cap 1 - Aprendendo com os dados da organização"
      ]
    },
    {
      "cell_type": "code",
      "execution_count": null,
      "metadata": {
        "id": "5fMpIdyOrfgV"
      },
      "outputs": [],
      "source": [
        "import pandas as pd\n",
        "import numpy as np\n",
        "import matplotlib.pyplot as plt\n",
        "import seaborn as sns\n",
        "\n",
        "from sklearn.preprocessing import scale\n",
        "from sklearn.covariance import EmpiricalCovariance, MinCovDet\n",
        "from statsmodels.tsa.stattools import adfuller\n",
        "from datetime import datetime"
      ]
    },
    {
      "cell_type": "code",
      "execution_count": null,
      "metadata": {
        "colab": {
          "base_uri": "https://localhost:8080/",
          "height": 212
        },
        "id": "us8fij3bkrIx",
        "outputId": "6b0e7e1c-e244-42d5-a75a-9d1c872f7d58"
      },
      "outputs": [
        {
          "output_type": "display_data",
          "data": {
            "text/plain": [
              "<IPython.core.display.HTML object>"
            ],
            "text/html": [
              "\n",
              "     <input type=\"file\" id=\"files-19993db5-dd49-48f0-8a70-f9efcc887d3d\" name=\"files[]\" multiple disabled\n",
              "        style=\"border:none\" />\n",
              "     <output id=\"result-19993db5-dd49-48f0-8a70-f9efcc887d3d\">\n",
              "      Upload widget is only available when the cell has been executed in the\n",
              "      current browser session. Please rerun this cell to enable.\n",
              "      </output>\n",
              "      <script>// Copyright 2017 Google LLC\n",
              "//\n",
              "// Licensed under the Apache License, Version 2.0 (the \"License\");\n",
              "// you may not use this file except in compliance with the License.\n",
              "// You may obtain a copy of the License at\n",
              "//\n",
              "//      http://www.apache.org/licenses/LICENSE-2.0\n",
              "//\n",
              "// Unless required by applicable law or agreed to in writing, software\n",
              "// distributed under the License is distributed on an \"AS IS\" BASIS,\n",
              "// WITHOUT WARRANTIES OR CONDITIONS OF ANY KIND, either express or implied.\n",
              "// See the License for the specific language governing permissions and\n",
              "// limitations under the License.\n",
              "\n",
              "/**\n",
              " * @fileoverview Helpers for google.colab Python module.\n",
              " */\n",
              "(function(scope) {\n",
              "function span(text, styleAttributes = {}) {\n",
              "  const element = document.createElement('span');\n",
              "  element.textContent = text;\n",
              "  for (const key of Object.keys(styleAttributes)) {\n",
              "    element.style[key] = styleAttributes[key];\n",
              "  }\n",
              "  return element;\n",
              "}\n",
              "\n",
              "// Max number of bytes which will be uploaded at a time.\n",
              "const MAX_PAYLOAD_SIZE = 100 * 1024;\n",
              "\n",
              "function _uploadFiles(inputId, outputId) {\n",
              "  const steps = uploadFilesStep(inputId, outputId);\n",
              "  const outputElement = document.getElementById(outputId);\n",
              "  // Cache steps on the outputElement to make it available for the next call\n",
              "  // to uploadFilesContinue from Python.\n",
              "  outputElement.steps = steps;\n",
              "\n",
              "  return _uploadFilesContinue(outputId);\n",
              "}\n",
              "\n",
              "// This is roughly an async generator (not supported in the browser yet),\n",
              "// where there are multiple asynchronous steps and the Python side is going\n",
              "// to poll for completion of each step.\n",
              "// This uses a Promise to block the python side on completion of each step,\n",
              "// then passes the result of the previous step as the input to the next step.\n",
              "function _uploadFilesContinue(outputId) {\n",
              "  const outputElement = document.getElementById(outputId);\n",
              "  const steps = outputElement.steps;\n",
              "\n",
              "  const next = steps.next(outputElement.lastPromiseValue);\n",
              "  return Promise.resolve(next.value.promise).then((value) => {\n",
              "    // Cache the last promise value to make it available to the next\n",
              "    // step of the generator.\n",
              "    outputElement.lastPromiseValue = value;\n",
              "    return next.value.response;\n",
              "  });\n",
              "}\n",
              "\n",
              "/**\n",
              " * Generator function which is called between each async step of the upload\n",
              " * process.\n",
              " * @param {string} inputId Element ID of the input file picker element.\n",
              " * @param {string} outputId Element ID of the output display.\n",
              " * @return {!Iterable<!Object>} Iterable of next steps.\n",
              " */\n",
              "function* uploadFilesStep(inputId, outputId) {\n",
              "  const inputElement = document.getElementById(inputId);\n",
              "  inputElement.disabled = false;\n",
              "\n",
              "  const outputElement = document.getElementById(outputId);\n",
              "  outputElement.innerHTML = '';\n",
              "\n",
              "  const pickedPromise = new Promise((resolve) => {\n",
              "    inputElement.addEventListener('change', (e) => {\n",
              "      resolve(e.target.files);\n",
              "    });\n",
              "  });\n",
              "\n",
              "  const cancel = document.createElement('button');\n",
              "  inputElement.parentElement.appendChild(cancel);\n",
              "  cancel.textContent = 'Cancel upload';\n",
              "  const cancelPromise = new Promise((resolve) => {\n",
              "    cancel.onclick = () => {\n",
              "      resolve(null);\n",
              "    };\n",
              "  });\n",
              "\n",
              "  // Wait for the user to pick the files.\n",
              "  const files = yield {\n",
              "    promise: Promise.race([pickedPromise, cancelPromise]),\n",
              "    response: {\n",
              "      action: 'starting',\n",
              "    }\n",
              "  };\n",
              "\n",
              "  cancel.remove();\n",
              "\n",
              "  // Disable the input element since further picks are not allowed.\n",
              "  inputElement.disabled = true;\n",
              "\n",
              "  if (!files) {\n",
              "    return {\n",
              "      response: {\n",
              "        action: 'complete',\n",
              "      }\n",
              "    };\n",
              "  }\n",
              "\n",
              "  for (const file of files) {\n",
              "    const li = document.createElement('li');\n",
              "    li.append(span(file.name, {fontWeight: 'bold'}));\n",
              "    li.append(span(\n",
              "        `(${file.type || 'n/a'}) - ${file.size} bytes, ` +\n",
              "        `last modified: ${\n",
              "            file.lastModifiedDate ? file.lastModifiedDate.toLocaleDateString() :\n",
              "                                    'n/a'} - `));\n",
              "    const percent = span('0% done');\n",
              "    li.appendChild(percent);\n",
              "\n",
              "    outputElement.appendChild(li);\n",
              "\n",
              "    const fileDataPromise = new Promise((resolve) => {\n",
              "      const reader = new FileReader();\n",
              "      reader.onload = (e) => {\n",
              "        resolve(e.target.result);\n",
              "      };\n",
              "      reader.readAsArrayBuffer(file);\n",
              "    });\n",
              "    // Wait for the data to be ready.\n",
              "    let fileData = yield {\n",
              "      promise: fileDataPromise,\n",
              "      response: {\n",
              "        action: 'continue',\n",
              "      }\n",
              "    };\n",
              "\n",
              "    // Use a chunked sending to avoid message size limits. See b/62115660.\n",
              "    let position = 0;\n",
              "    do {\n",
              "      const length = Math.min(fileData.byteLength - position, MAX_PAYLOAD_SIZE);\n",
              "      const chunk = new Uint8Array(fileData, position, length);\n",
              "      position += length;\n",
              "\n",
              "      const base64 = btoa(String.fromCharCode.apply(null, chunk));\n",
              "      yield {\n",
              "        response: {\n",
              "          action: 'append',\n",
              "          file: file.name,\n",
              "          data: base64,\n",
              "        },\n",
              "      };\n",
              "\n",
              "      let percentDone = fileData.byteLength === 0 ?\n",
              "          100 :\n",
              "          Math.round((position / fileData.byteLength) * 100);\n",
              "      percent.textContent = `${percentDone}% done`;\n",
              "\n",
              "    } while (position < fileData.byteLength);\n",
              "  }\n",
              "\n",
              "  // All done.\n",
              "  yield {\n",
              "    response: {\n",
              "      action: 'complete',\n",
              "    }\n",
              "  };\n",
              "}\n",
              "\n",
              "scope.google = scope.google || {};\n",
              "scope.google.colab = scope.google.colab || {};\n",
              "scope.google.colab._files = {\n",
              "  _uploadFiles,\n",
              "  _uploadFilesContinue,\n",
              "};\n",
              "})(self);\n",
              "</script> "
            ]
          },
          "metadata": {}
        },
        {
          "output_type": "stream",
          "name": "stdout",
          "text": [
            "Saving vendas_linha_petshop_2019.csv to vendas_linha_petshop_2019.csv\n",
            "Saving vendas_linha_petshop_2020.csv to vendas_linha_petshop_2020.csv\n",
            "Saving vendas_linha_petshop_2021.csv to vendas_linha_petshop_2021.csv\n",
            "Saving vendas_linha_petshop_2022.xlsx to vendas_linha_petshop_2022.xlsx\n",
            "Saving vendas_linha_petshop_2023.xlsx to vendas_linha_petshop_2023.xlsx\n"
          ]
        }
      ],
      "source": [
        "from google.colab import files\n",
        "uploaded = files.upload()"
      ]
    },
    {
      "cell_type": "code",
      "execution_count": null,
      "metadata": {
        "id": "W2PlnQ7hriXt"
      },
      "outputs": [],
      "source": [
        "vendas_2019 = pd.read_csv('vendas_linha_petshop_2019.csv', encoding='ISO-8859-1', delimiter=';')\n",
        "vendas_2020 = pd.read_csv('vendas_linha_petshop_2020.csv', encoding='ISO-8859-1', delimiter=';')\n",
        "vendas_2021 = pd.read_csv('vendas_linha_petshop_2021.csv', encoding='ISO-8859-1', delimiter=';')\n",
        "vendas_2022 = pd.read_excel('vendas_linha_petshop_2022.xlsx')\n",
        "vendas_2023 = pd.read_excel('vendas_linha_petshop_2023.xlsx')"
      ]
    },
    {
      "cell_type": "code",
      "source": [
        "# Atribuir novos nomes diretamente às colunas\n",
        "vendas_2022.columns = ['regiao_pais', 'produto', 'valor', 'quantidade', 'valor_total_bruto', 'data', 'estado', 'formapagto', 'centro_distribuicao', 'responsavelpedido', 'valor_comissao', 'lucro_liquido', 'categoriaprod']\n",
        "vendas_2023.columns = ['regiao_pais', 'produto', 'valor', 'quantidade', 'valor_total_bruto', 'data', 'estado', 'formapagto', 'centro_distribuicao', 'responsavelpedido', 'valor_comissao', 'lucro_liquido', 'categoriaprod']"
      ],
      "metadata": {
        "id": "fGQFVnFipAyk"
      },
      "execution_count": null,
      "outputs": []
    },
    {
      "cell_type": "code",
      "source": [
        "# Dropar coluna de codigos do pedido, porque 2 das planilhas não tem essa coluna\n",
        "vendas_2019 = vendas_2019.drop('cod_pedido', axis=1)\n",
        "vendas_2020 = vendas_2020.drop('cod_pedido', axis=1)\n",
        "vendas_2021 = vendas_2021.drop('cod_pedido', axis=1)"
      ],
      "metadata": {
        "id": "IMEoFoU3qa83"
      },
      "execution_count": null,
      "outputs": []
    },
    {
      "cell_type": "code",
      "source": [
        "#Unindo os DF\n",
        "\n",
        "lista_de_dfs = [vendas_2019, vendas_2020, vendas_2021, vendas_2022, vendas_2023]\n",
        "df = pd.concat(lista_de_dfs, ignore_index=True)"
      ],
      "metadata": {
        "id": "G9iD3H-SfN4W"
      },
      "execution_count": null,
      "outputs": []
    },
    {
      "cell_type": "code",
      "source": [
        "#Criando um índice personalizado pra substituir o código do pedido que dropamos\n",
        "df['indice_personalizado'] = range(1, len(df) + 1)\n",
        "df.set_index('indice_personalizado', inplace=True)\n",
        "df_pre = df.copy()"
      ],
      "metadata": {
        "id": "Rvq83qQbufXG"
      },
      "execution_count": null,
      "outputs": []
    },
    {
      "cell_type": "code",
      "source": [
        "#Verificando o número de linhas\n",
        "num_linhas = df.shape[0]\n",
        "print(f\"O DataFrame tem {num_linhas} linhas.\")\n"
      ],
      "metadata": {
        "colab": {
          "base_uri": "https://localhost:8080/"
        },
        "id": "6eYXahcoVanu",
        "outputId": "0355bb82-637d-4c63-8e4a-60fcd7e0d8bd"
      },
      "execution_count": null,
      "outputs": [
        {
          "output_type": "stream",
          "name": "stdout",
          "text": [
            "O DataFrame tem 250060 linhas.\n"
          ]
        }
      ]
    },
    {
      "cell_type": "markdown",
      "source": [
        "**Exercício 1**"
      ],
      "metadata": {
        "id": "VlL6_zRKWLSn"
      }
    },
    {
      "cell_type": "code",
      "source": [
        "missing_count = df.isnull().sum()\n",
        "print(missing_count)\n",
        "total_missing_count = missing_count.sum()\n",
        "print(f\"Total de valores ausentes: {total_missing_count}\")\n"
      ],
      "metadata": {
        "colab": {
          "base_uri": "https://localhost:8080/"
        },
        "id": "tdycq5etltjs",
        "outputId": "be4cf5c5-978d-4795-b3b9-0d39494d39b3"
      },
      "execution_count": null,
      "outputs": [
        {
          "output_type": "stream",
          "name": "stdout",
          "text": [
            "regiao_pais              0\n",
            "produto                  0\n",
            "valor                    0\n",
            "quantidade             332\n",
            "valor_total_bruto       20\n",
            "data                     0\n",
            "estado                   0\n",
            "formapagto               0\n",
            "centro_distribuicao      0\n",
            "responsavelpedido        0\n",
            "valor_comissao          21\n",
            "lucro_liquido           21\n",
            "categoriaprod            0\n",
            "dtype: int64\n",
            "Total de valores ausentes: 394\n"
          ]
        }
      ]
    },
    {
      "cell_type": "markdown",
      "source": [
        "Existem dados nulos nas colunas \"quantidade\", \"valor_total_bruto\", \"valor_comissao\" e \"lucro_liquido\".\n",
        "\n",
        "Nos casos em que temos dados nulos em \"quantidade\" e as colunas \"valor\" e \"valor_total_bruto\" estão preenchidas é possível corrigir isso já que em todos os casos o valor_total_bruto = quantidade * valor.\n",
        "\n",
        "Entretanto, nem sempre isso é possível de ser feito. Se tivéssemos dados nulos em data, por exemplo, e fosse necessário para uma análise, precisaríamos provavelmente dropar essas linhas com dados faltantes."
      ],
      "metadata": {
        "id": "m4wkzRRKIqbS"
      }
    },
    {
      "cell_type": "code",
      "source": [
        "df_tratamento = df.copy()"
      ],
      "metadata": {
        "id": "U-zRv_DXMPjm"
      },
      "execution_count": null,
      "outputs": []
    },
    {
      "cell_type": "code",
      "source": [
        "df_tratamento['valor'] = df_tratamento['valor'].apply(lambda x: x.replace(',', '.') if ',' in str(x) else x)\n",
        "df_tratamento['valor'] = pd.to_numeric(df_tratamento['valor'], errors='coerce')\n",
        "df_tratamento['valor_total_bruto'] = df_tratamento['valor_total_bruto'].apply(lambda x: x.replace(',', '.') if ',' in str(x) else x)\n",
        "df_tratamento['valor_total_bruto'] = pd.to_numeric(df_tratamento['valor_total_bruto'], errors='coerce')\n",
        "\n",
        "#pegando apenas quando temos quantidade null e o resto não null\n",
        "df_tratamento['quantidade_tratada'] = df_tratamento.valor_total_bruto / df_tratamento.valor\n",
        "df_tratamento['quantidade_tratada']\n",
        "\n",
        "#alguns valores ficaram claramente inconsistentes, a ser investigado posteriormente\n",
        "df_tratamento['quantidade'] = df_tratamento['quantidade'].fillna(df_tratamento['quantidade_tratada'])\n",
        "\n",
        "#validando que não tem mais nenhum nulo\n",
        "df_tratamento['quantidade'].isnull().sum()"
      ],
      "metadata": {
        "colab": {
          "base_uri": "https://localhost:8080/"
        },
        "id": "zQ0OUSHEIpU1",
        "outputId": "f1267fc6-4919-454c-de4d-17c6ecbb1aed"
      },
      "execution_count": null,
      "outputs": [
        {
          "output_type": "execute_result",
          "data": {
            "text/plain": [
              "0"
            ]
          },
          "metadata": {},
          "execution_count": 62
        }
      ]
    },
    {
      "cell_type": "code",
      "source": [
        "#agora vamos avaliar quando valor_total_bruto é NaN. Seria possível também fazer o cálculo se a coluna quantidade estivesse preenchida de maneira correta.\n",
        "#Como não está, será necessário dropar essas colunas.\n",
        "df_tratamento[df_tratamento['valor_total_bruto'].isna()]\n",
        "df_tratamento = df_tratamento.dropna(subset=['valor_total_bruto'])"
      ],
      "metadata": {
        "id": "_7ZXlKWAYv14"
      },
      "execution_count": null,
      "outputs": []
    },
    {
      "cell_type": "code",
      "source": [
        "#revendo os missing values\n",
        "missing_count = df_tratamento.isnull().sum()\n",
        "print(missing_count)\n",
        "total_missing_count = missing_count.sum()\n",
        "print(f\"Total de valores ausentes: {total_missing_count}\")\n"
      ],
      "metadata": {
        "colab": {
          "base_uri": "https://localhost:8080/"
        },
        "id": "QLweiOFWZpSu",
        "outputId": "2af8a07b-e437-4c91-830a-b572d5bfee55"
      },
      "execution_count": null,
      "outputs": [
        {
          "output_type": "stream",
          "name": "stdout",
          "text": [
            "regiao_pais             0\n",
            "produto                 0\n",
            "valor                   1\n",
            "quantidade              0\n",
            "valor_total_bruto       0\n",
            "data                    0\n",
            "estado                  0\n",
            "formapagto              0\n",
            "centro_distribuicao     0\n",
            "responsavelpedido       0\n",
            "valor_comissao          0\n",
            "lucro_liquido           0\n",
            "categoriaprod           0\n",
            "quantidade_tratada     49\n",
            "dtype: int64\n",
            "Total de valores ausentes: 50\n"
          ]
        }
      ]
    },
    {
      "cell_type": "markdown",
      "source": [
        "**Exercício 2**"
      ],
      "metadata": {
        "id": "X_f4kykFYsF7"
      }
    },
    {
      "cell_type": "code",
      "source": [
        "df_tratamento['quantidade'].describe()"
      ],
      "metadata": {
        "colab": {
          "base_uri": "https://localhost:8080/"
        },
        "id": "yUi5-Yoagniu",
        "outputId": "0c5f5b54-8da1-46bd-aaca-72d9910795e0"
      },
      "execution_count": null,
      "outputs": [
        {
          "output_type": "execute_result",
          "data": {
            "text/plain": [
              "count     250039\n",
              "unique        73\n",
              "top            1\n",
              "freq       56055\n",
              "Name: quantidade, dtype: object"
            ]
          },
          "metadata": {},
          "execution_count": 65
        }
      ]
    },
    {
      "cell_type": "code",
      "source": [
        "#Transformando a coluna quantidade em numerica, substituindo possíveis pontos e letras antes de usar o coerce\n",
        "df['quantidade'] = df['quantidade'].astype(str)\n",
        "df['quantidade'] = pd.to_numeric(df['quantidade'].str.replace('[^\\d.,]', '', regex=True), errors='coerce')\n",
        "\n",
        "#Identificar outliers usando o método IQR\n",
        "Q1 = df['quantidade'].quantile(0.25)\n",
        "Q3 = df['quantidade'].quantile(0.75)\n",
        "IQR = Q3 - Q1\n",
        "lower_bound = Q1 - 1.5 * IQR\n",
        "upper_bound = Q3 + 1.5 * IQR\n",
        "\n",
        "outliers = df[(df['quantidade'] < lower_bound) | (df['quantidade'] > upper_bound)]\n",
        "\n",
        "#Visualizar os outliers\n",
        "df.boxplot(column='quantidade')\n",
        "plt.show()\n"
      ],
      "metadata": {
        "colab": {
          "base_uri": "https://localhost:8080/",
          "height": 430
        },
        "id": "OM6NzxSmnNOd",
        "outputId": "2b17e719-5c43-4467-832f-c1707ddab5e3"
      },
      "execution_count": null,
      "outputs": [
        {
          "output_type": "display_data",
          "data": {
            "text/plain": [
              "<Figure size 640x480 with 1 Axes>"
            ],
            "image/png": "[encoded data removed]"
          },
          "metadata": {}
        }
      ]
    },
    {
      "cell_type": "markdown",
      "source": [
        "Antes de alguns tratamentos, existiam quantidades \"negativas\". Nesse caso, poderíamos dizer que provavelmente eram dados inválidos/inconsistentes/com algum erro.\n",
        "Já com os dados após os tratamentos, vemos uma grande concentração de pedidos com até 2 itens (75% dos pedidos). E temos como máximo a quantidade de 88, que ainda é algo normal, não daria para afirmarmos que é um erro/algo suspeito."
      ],
      "metadata": {
        "id": "V9RY-wjdh7MJ"
      }
    },
    {
      "cell_type": "markdown",
      "source": [
        "**Exercício 3**"
      ],
      "metadata": {
        "id": "9gQVxmqhXAlN"
      }
    },
    {
      "cell_type": "code",
      "source": [
        "#Verificando o tipo de dado:\n",
        "tipo_dado_1 = df['valor_total_bruto'].dtype\n",
        "print(f\"Tipo de dado da coluna 'valor_total_bruto': {tipo_dado_1}\")\n",
        "\n",
        "tipo_dado_2 = df['quantidade'].dtype\n",
        "print(f\"Tipo de dado da coluna 'quantidade': {tipo_dado_2}\")\n",
        "\n",
        "tipo_dado_3 = df['valor'].dtype\n",
        "print(f\"Tipo de dado da coluna 'valor': {tipo_dado_3}\")\n",
        "\n",
        "#transformando as colunas do valor bruto para numerica (para nao dar erro)\n",
        "#combined_df['valor_total_bruto'] = pd.to_numeric(combined_df['valor_total_bruto'], errors='coerce')\n"
      ],
      "metadata": {
        "colab": {
          "base_uri": "https://localhost:8080/"
        },
        "id": "I8lfaVayuHXS",
        "outputId": "d02c07ea-1cd5-4316-efef-a74f5eaa3dce"
      },
      "execution_count": null,
      "outputs": [
        {
          "output_type": "stream",
          "name": "stdout",
          "text": [
            "Tipo de dado da coluna 'valor_total_bruto': object\n",
            "Tipo de dado da coluna 'quantidade': float64\n",
            "Tipo de dado da coluna 'valor': object\n"
          ]
        }
      ]
    },
    {
      "cell_type": "code",
      "source": [
        "#Transformando o valor_total_bruto em float para permitir cálculos\n",
        "#df['valor_total_bruto'] = df['valor_total_bruto'].str.replace(',', '.', regex=True)\n",
        "#df['valor_total_bruto'] = df['valor_total_bruto'].str.replace('[^\\d.]', '', regex=True)\n",
        "#df['valor_total_bruto'] = df['valor_total_bruto'].astype(float)\n",
        "\n",
        "#Transformando o valor em float para permitir cálculos\n",
        "#df['valor'] = df['valor'].str.replace(',', '.', regex=True)\n",
        "#df['valor'] = df['valor'].str.replace('[^\\d.]', '', regex=True)\n",
        "#df['valor'] = pd.to_numeric(df['valor'], errors='coerce')\n",
        "\n",
        "#Lida com valores infinitos substituindo por 0\n",
        "#df['quantidade'] = df['quantidade'].replace([float('inf'), float('-inf')], 0)\n",
        "\n",
        "#Substitui valores não finitos por 0 antes de converter para int\n",
        "#df['quantidade'] = df['quantidade'].fillna(0).astype(int)\n",
        "#print(df)\n"
      ],
      "metadata": {
        "id": "G0so27aECjKA"
      },
      "execution_count": null,
      "outputs": []
    },
    {
      "cell_type": "code",
      "source": [
        "# Check data types\n",
        "print(\"Data Types in df_tratamento:\")\n",
        "print(df_tratamento.dtypes)\n",
        "\n",
        "print(\"Data Types in df:\")\n",
        "print(df.dtypes)\n",
        "\n",
        "# Inspect data in the 'valor_total_calculado' and 'valor_total_bruto' columns\n",
        "print(\"Sample data in df_tratamento['valor_total_calculado']:\")\n",
        "print(df_tratamento['valor_total_calculado'].head())\n",
        "\n",
        "print(\"Sample data in df['valor_total_bruto']:\")\n",
        "print(df['valor_total_bruto'].head())\n"
      ],
      "metadata": {
        "colab": {
          "base_uri": "https://localhost:8080/"
        },
        "id": "MI_tJvBbZHLW",
        "outputId": "b2e55da1-34cb-4bd4-fb1c-fdea373d9c67"
      },
      "execution_count": null,
      "outputs": [
        {
          "output_type": "stream",
          "name": "stdout",
          "text": [
            "Data Types in df_tratamento:\n",
            "regiao_pais               object\n",
            "produto                   object\n",
            "valor                    float64\n",
            "quantidade               float64\n",
            "valor_total_bruto        float64\n",
            "data                      object\n",
            "estado                    object\n",
            "formapagto                object\n",
            "centro_distribuicao       object\n",
            "responsavelpedido         object\n",
            "valor_comissao            object\n",
            "lucro_liquido             object\n",
            "categoriaprod             object\n",
            "quantidade_tratada       float64\n",
            "valor_total_calculado    float64\n",
            "dtype: object\n",
            "Data Types in df:\n",
            "regiao_pais             object\n",
            "produto                 object\n",
            "valor                  float64\n",
            "quantidade             float64\n",
            "valor_total_bruto      float64\n",
            "data                    object\n",
            "estado                  object\n",
            "formapagto              object\n",
            "centro_distribuicao     object\n",
            "responsavelpedido       object\n",
            "valor_comissao          object\n",
            "lucro_liquido           object\n",
            "categoriaprod           object\n",
            "dtype: object\n",
            "Sample data in df_tratamento['valor_total_calculado']:\n",
            "0   NaN\n",
            "1   NaN\n",
            "2   NaN\n",
            "3   NaN\n",
            "4   NaN\n",
            "Name: valor_total_calculado, dtype: float64\n",
            "Sample data in df['valor_total_bruto']:\n",
            "indice_personalizado\n",
            "1   NaN\n",
            "2   NaN\n",
            "3   NaN\n",
            "4   NaN\n",
            "5   NaN\n",
            "Name: valor_total_bruto, dtype: float64\n"
          ]
        }
      ]
    },
    {
      "cell_type": "code",
      "source": [
        "df_tratamento['valor'] = pd.to_numeric(df_tratamento['valor'], errors='coerce')\n",
        "df_tratamento.reset_index(drop=True, inplace=True)\n",
        "\n",
        "# Redefinir o índice de df para o índice padrão\n",
        "df.reset_index(drop=True, inplace=True)\n",
        "\n",
        "# Calcular o valor total bruto com base em valor e quantidade (total = valor * quantidade)\n",
        "df_tratamento['valor_total_calculado'] = df_tratamento['valor'] * df_tratamento['quantidade']\n",
        "\n",
        "# Verificar se os valores na coluna 'valor_total_bruto' correspondem ao valor calculado\n",
        "df_inconsistentes = df_tratamento[df_tratamento['valor_total_calculado'] != df['valor_total_bruto']]\n",
        "\n",
        "df_inconsistentes.shape[0]"
      ],
      "metadata": {
        "colab": {
          "base_uri": "https://localhost:8080/",
          "height": 390
        },
        "id": "p7xefW0tg_iT",
        "outputId": "844c85ca-65d3-4f1d-f44a-b69de723cb16"
      },
      "execution_count": null,
      "outputs": [
        {
          "output_type": "error",
          "ename": "ValueError",
          "evalue": "ignored",
          "traceback": [
            "\u001b[0;31m---------------------------------------------------------------------------\u001b[0m",
            "\u001b[0;31mValueError\u001b[0m                                Traceback (most recent call last)",
            "\u001b[0;32m<ipython-input-80-ddb108347660>\u001b[0m in \u001b[0;36m<cell line: 11>\u001b[0;34m()\u001b[0m\n\u001b[1;32m      9\u001b[0m \u001b[0;34m\u001b[0m\u001b[0m\n\u001b[1;32m     10\u001b[0m \u001b[0;31m# Verificar se os valores na coluna 'valor_total_bruto' correspondem ao valor calculado\u001b[0m\u001b[0;34m\u001b[0m\u001b[0;34m\u001b[0m\u001b[0m\n\u001b[0;32m---> 11\u001b[0;31m \u001b[0mdf_inconsistentes\u001b[0m \u001b[0;34m=\u001b[0m \u001b[0mdf_tratamento\u001b[0m\u001b[0;34m[\u001b[0m\u001b[0mdf_tratamento\u001b[0m\u001b[0;34m[\u001b[0m\u001b[0;34m'valor_total_calculado'\u001b[0m\u001b[0;34m]\u001b[0m \u001b[0;34m!=\u001b[0m \u001b[0mdf\u001b[0m\u001b[0;34m[\u001b[0m\u001b[0;34m'valor_total_bruto'\u001b[0m\u001b[0;34m]\u001b[0m\u001b[0;34m]\u001b[0m\u001b[0;34m\u001b[0m\u001b[0;34m\u001b[0m\u001b[0m\n\u001b[0m\u001b[1;32m     12\u001b[0m \u001b[0;34m\u001b[0m\u001b[0m\n\u001b[1;32m     13\u001b[0m \u001b[0mdf_inconsistentes\u001b[0m\u001b[0;34m.\u001b[0m\u001b[0mshape\u001b[0m\u001b[0;34m[\u001b[0m\u001b[0;36m0\u001b[0m\u001b[0;34m]\u001b[0m\u001b[0;34m\u001b[0m\u001b[0;34m\u001b[0m\u001b[0m\n",
            "\u001b[0;32m/usr/local/lib/python3.10/dist-packages/pandas/core/ops/common.py\u001b[0m in \u001b[0;36mnew_method\u001b[0;34m(self, other)\u001b[0m\n\u001b[1;32m     70\u001b[0m         \u001b[0mother\u001b[0m \u001b[0;34m=\u001b[0m \u001b[0mitem_from_zerodim\u001b[0m\u001b[0;34m(\u001b[0m\u001b[0mother\u001b[0m\u001b[0;34m)\u001b[0m\u001b[0;34m\u001b[0m\u001b[0;34m\u001b[0m\u001b[0m\n\u001b[1;32m     71\u001b[0m \u001b[0;34m\u001b[0m\u001b[0m\n\u001b[0;32m---> 72\u001b[0;31m         \u001b[0;32mreturn\u001b[0m \u001b[0mmethod\u001b[0m\u001b[0;34m(\u001b[0m\u001b[0mself\u001b[0m\u001b[0;34m,\u001b[0m \u001b[0mother\u001b[0m\u001b[0;34m)\u001b[0m\u001b[0;34m\u001b[0m\u001b[0;34m\u001b[0m\u001b[0m\n\u001b[0m\u001b[1;32m     73\u001b[0m \u001b[0;34m\u001b[0m\u001b[0m\n\u001b[1;32m     74\u001b[0m     \u001b[0;32mreturn\u001b[0m \u001b[0mnew_method\u001b[0m\u001b[0;34m\u001b[0m\u001b[0;34m\u001b[0m\u001b[0m\n",
            "\u001b[0;32m/usr/local/lib/python3.10/dist-packages/pandas/core/arraylike.py\u001b[0m in \u001b[0;36m__ne__\u001b[0;34m(self, other)\u001b[0m\n\u001b[1;32m     44\u001b[0m     \u001b[0;34m@\u001b[0m\u001b[0munpack_zerodim_and_defer\u001b[0m\u001b[0;34m(\u001b[0m\u001b[0;34m\"__ne__\"\u001b[0m\u001b[0;34m)\u001b[0m\u001b[0;34m\u001b[0m\u001b[0;34m\u001b[0m\u001b[0m\n\u001b[1;32m     45\u001b[0m     \u001b[0;32mdef\u001b[0m \u001b[0m__ne__\u001b[0m\u001b[0;34m(\u001b[0m\u001b[0mself\u001b[0m\u001b[0;34m,\u001b[0m \u001b[0mother\u001b[0m\u001b[0;34m)\u001b[0m\u001b[0;34m:\u001b[0m\u001b[0;34m\u001b[0m\u001b[0;34m\u001b[0m\u001b[0m\n\u001b[0;32m---> 46\u001b[0;31m         \u001b[0;32mreturn\u001b[0m \u001b[0mself\u001b[0m\u001b[0;34m.\u001b[0m\u001b[0m_cmp_method\u001b[0m\u001b[0;34m(\u001b[0m\u001b[0mother\u001b[0m\u001b[0;34m,\u001b[0m \u001b[0moperator\u001b[0m\u001b[0;34m.\u001b[0m\u001b[0mne\u001b[0m\u001b[0;34m)\u001b[0m\u001b[0;34m\u001b[0m\u001b[0;34m\u001b[0m\u001b[0m\n\u001b[0m\u001b[1;32m     47\u001b[0m \u001b[0;34m\u001b[0m\u001b[0m\n\u001b[1;32m     48\u001b[0m     \u001b[0;34m@\u001b[0m\u001b[0munpack_zerodim_and_defer\u001b[0m\u001b[0;34m(\u001b[0m\u001b[0;34m\"__lt__\"\u001b[0m\u001b[0;34m)\u001b[0m\u001b[0;34m\u001b[0m\u001b[0;34m\u001b[0m\u001b[0m\n",
            "\u001b[0;32m/usr/local/lib/python3.10/dist-packages/pandas/core/series.py\u001b[0m in \u001b[0;36m_cmp_method\u001b[0;34m(self, other, op)\u001b[0m\n\u001b[1;32m   6235\u001b[0m \u001b[0;34m\u001b[0m\u001b[0m\n\u001b[1;32m   6236\u001b[0m         \u001b[0;32mif\u001b[0m \u001b[0misinstance\u001b[0m\u001b[0;34m(\u001b[0m\u001b[0mother\u001b[0m\u001b[0;34m,\u001b[0m \u001b[0mSeries\u001b[0m\u001b[0;34m)\u001b[0m \u001b[0;32mand\u001b[0m \u001b[0;32mnot\u001b[0m \u001b[0mself\u001b[0m\u001b[0;34m.\u001b[0m\u001b[0m_indexed_same\u001b[0m\u001b[0;34m(\u001b[0m\u001b[0mother\u001b[0m\u001b[0;34m)\u001b[0m\u001b[0;34m:\u001b[0m\u001b[0;34m\u001b[0m\u001b[0;34m\u001b[0m\u001b[0m\n\u001b[0;32m-> 6237\u001b[0;31m             \u001b[0;32mraise\u001b[0m \u001b[0mValueError\u001b[0m\u001b[0;34m(\u001b[0m\u001b[0;34m\"Can only compare identically-labeled Series objects\"\u001b[0m\u001b[0;34m)\u001b[0m\u001b[0;34m\u001b[0m\u001b[0;34m\u001b[0m\u001b[0m\n\u001b[0m\u001b[1;32m   6238\u001b[0m \u001b[0;34m\u001b[0m\u001b[0m\n\u001b[1;32m   6239\u001b[0m         \u001b[0mlvalues\u001b[0m \u001b[0;34m=\u001b[0m \u001b[0mself\u001b[0m\u001b[0;34m.\u001b[0m\u001b[0m_values\u001b[0m\u001b[0;34m\u001b[0m\u001b[0;34m\u001b[0m\u001b[0m\n",
            "\u001b[0;31mValueError\u001b[0m: Can only compare identically-labeled Series objects"
          ]
        }
      ]
    },
    {
      "cell_type": "markdown",
      "source": [
        "Os inconsistentes foram eliminados na limpeza dos valores nulos.\n"
      ],
      "metadata": {
        "id": "mi9dl1s8l0ev"
      }
    },
    {
      "cell_type": "code",
      "source": [
        "df_tratamento['valor_total_calculado'].describe()"
      ],
      "metadata": {
        "colab": {
          "base_uri": "https://localhost:8080/"
        },
        "id": "0q39wYmYk7KU",
        "outputId": "0d1d8a9f-93bb-4b27-f1b9-f8b565f7fa3f"
      },
      "execution_count": null,
      "outputs": [
        {
          "output_type": "execute_result",
          "data": {
            "text/plain": [
              "count     92397.000000\n",
              "mean        334.975612\n",
              "std        2648.321845\n",
              "min           5.600000\n",
              "25%          35.840000\n",
              "50%          63.840000\n",
              "75%         114.240000\n",
              "max      104165.600000\n",
              "Name: valor_total_calculado, dtype: float64"
            ]
          },
          "metadata": {},
          "execution_count": 178
        }
      ]
    },
    {
      "cell_type": "code",
      "source": [
        "df_tratamento[df_tratamento['valor_total_calculado']==104165.6]"
      ],
      "metadata": {
        "colab": {
          "base_uri": "https://localhost:8080/",
          "height": 302
        },
        "id": "S7ATfLM8n4yv",
        "outputId": "2403881a-c97b-4fef-fd06-9ead93b4ce3e"
      },
      "execution_count": null,
      "outputs": [
        {
          "output_type": "execute_result",
          "data": {
            "text/plain": [
              "                     regiao_pais  \\\n",
              "indice_personalizado               \n",
              "86702                    Sudeste   \n",
              "91622                      Norte   \n",
              "\n",
              "                                                                produto  \\\n",
              "indice_personalizado                                                      \n",
              "86702                 Nutri Alimentador Inteligente Automático Câmer...   \n",
              "91622                 Nutri Alimentador Inteligente Automático Câmer...   \n",
              "\n",
              "                       valor  quantidade  valor_total_bruto        data  \\\n",
              "indice_personalizado                                                      \n",
              "86702                 1183.7          88           104165.6  25/12/2021   \n",
              "91622                 1183.7          88           104165.6  02/10/2021   \n",
              "\n",
              "                            estado       formapagto centro_distribuicao  \\\n",
              "indice_personalizado                                                      \n",
              "86702                 Minas Gerais    Cartão Débito         Papa Léguas   \n",
              "91622                        Amapá  Boleto Bancário          Rapid Pink   \n",
              "\n",
              "                     responsavelpedido valor_comissao lucro_liquido  \\\n",
              "indice_personalizado                                                  \n",
              "86702                          Monique         5482,4         23496   \n",
              "91622                      Maria Linda         5482,4         23496   \n",
              "\n",
              "                                categoriaprod  quantidade_tratada  \\\n",
              "indice_personalizado                                                \n",
              "86702                 Bebedouros e Comedouros                88.0   \n",
              "91622                 Bebedouros e Comedouros                88.0   \n",
              "\n",
              "                      valor_total_calculado  \n",
              "indice_personalizado                         \n",
              "86702                              104165.6  \n",
              "91622                              104165.6  "
            ],
            "text/html": [
              "\n",
              "  <div id=\"df-ec9723c9-9860-4094-b6ce-2c759198c0dc\" class=\"colab-df-container\">\n",
              "    <div>\n",
              "<style scoped>\n",
              "    .dataframe tbody tr th:only-of-type {\n",
              "        vertical-align: middle;\n",
              "    }\n",
              "\n",
              "    .dataframe tbody tr th {\n",
              "        vertical-align: top;\n",
              "    }\n",
              "\n",
              "    .dataframe thead th {\n",
              "        text-align: right;\n",
              "    }\n",
              "</style>\n",
              "<table border=\"1\" class=\"dataframe\">\n",
              "  <thead>\n",
              "    <tr style=\"text-align: right;\">\n",
              "      <th></th>\n",
              "      <th>regiao_pais</th>\n",
              "      <th>produto</th>\n",
              "      <th>valor</th>\n",
              "      <th>quantidade</th>\n",
              "      <th>valor_total_bruto</th>\n",
              "      <th>data</th>\n",
              "      <th>estado</th>\n",
              "      <th>formapagto</th>\n",
              "      <th>centro_distribuicao</th>\n",
              "      <th>responsavelpedido</th>\n",
              "      <th>valor_comissao</th>\n",
              "      <th>lucro_liquido</th>\n",
              "      <th>categoriaprod</th>\n",
              "      <th>quantidade_tratada</th>\n",
              "      <th>valor_total_calculado</th>\n",
              "    </tr>\n",
              "    <tr>\n",
              "      <th>indice_personalizado</th>\n",
              "      <th></th>\n",
              "      <th></th>\n",
              "      <th></th>\n",
              "      <th></th>\n",
              "      <th></th>\n",
              "      <th></th>\n",
              "      <th></th>\n",
              "      <th></th>\n",
              "      <th></th>\n",
              "      <th></th>\n",
              "      <th></th>\n",
              "      <th></th>\n",
              "      <th></th>\n",
              "      <th></th>\n",
              "      <th></th>\n",
              "    </tr>\n",
              "  </thead>\n",
              "  <tbody>\n",
              "    <tr>\n",
              "      <th>86702</th>\n",
              "      <td>Sudeste</td>\n",
              "      <td>Nutri Alimentador Inteligente Automático Câmer...</td>\n",
              "      <td>1183.7</td>\n",
              "      <td>88</td>\n",
              "      <td>104165.6</td>\n",
              "      <td>25/12/2021</td>\n",
              "      <td>Minas Gerais</td>\n",
              "      <td>Cartão Débito</td>\n",
              "      <td>Papa Léguas</td>\n",
              "      <td>Monique</td>\n",
              "      <td>5482,4</td>\n",
              "      <td>23496</td>\n",
              "      <td>Bebedouros e Comedouros</td>\n",
              "      <td>88.0</td>\n",
              "      <td>104165.6</td>\n",
              "    </tr>\n",
              "    <tr>\n",
              "      <th>91622</th>\n",
              "      <td>Norte</td>\n",
              "      <td>Nutri Alimentador Inteligente Automático Câmer...</td>\n",
              "      <td>1183.7</td>\n",
              "      <td>88</td>\n",
              "      <td>104165.6</td>\n",
              "      <td>02/10/2021</td>\n",
              "      <td>Amapá</td>\n",
              "      <td>Boleto Bancário</td>\n",
              "      <td>Rapid Pink</td>\n",
              "      <td>Maria Linda</td>\n",
              "      <td>5482,4</td>\n",
              "      <td>23496</td>\n",
              "      <td>Bebedouros e Comedouros</td>\n",
              "      <td>88.0</td>\n",
              "      <td>104165.6</td>\n",
              "    </tr>\n",
              "  </tbody>\n",
              "</table>\n",
              "</div>\n",
              "    <div class=\"colab-df-buttons\">\n",
              "\n",
              "  <div class=\"colab-df-container\">\n",
              "    <button class=\"colab-df-convert\" onclick=\"convertToInteractive('df-ec9723c9-9860-4094-b6ce-2c759198c0dc')\"\n",
              "            title=\"Convert this dataframe to an interactive table.\"\n",
              "            style=\"display:none;\">\n",
              "\n",
              "  <svg xmlns=\"http://www.w3.org/2000/svg\" height=\"24px\" viewBox=\"0 -960 960 960\">\n",
              "    <path d=\"M120-120v-720h720v720H120Zm60-500h600v-160H180v160Zm220 220h160v-160H400v160Zm0 220h160v-160H400v160ZM180-400h160v-160H180v160Zm440 0h160v-160H620v160ZM180-180h160v-160H180v160Zm440 0h160v-160H620v160Z\"/>\n",
              "  </svg>\n",
              "    </button>\n",
              "\n",
              "  <style>\n",
              "    .colab-df-container {\n",
              "      display:flex;\n",
              "      gap: 12px;\n",
              "    }\n",
              "\n",
              "    .colab-df-convert {\n",
              "      background-color: #E8F0FE;\n",
              "      border: none;\n",
              "      border-radius: 50%;\n",
              "      cursor: pointer;\n",
              "      display: none;\n",
              "      fill: #1967D2;\n",
              "      height: 32px;\n",
              "      padding: 0 0 0 0;\n",
              "      width: 32px;\n",
              "    }\n",
              "\n",
              "    .colab-df-convert:hover {\n",
              "      background-color: #E2EBFA;\n",
              "      box-shadow: 0px 1px 2px rgba(60, 64, 67, 0.3), 0px 1px 3px 1px rgba(60, 64, 67, 0.15);\n",
              "      fill: #174EA6;\n",
              "    }\n",
              "\n",
              "    .colab-df-buttons div {\n",
              "      margin-bottom: 4px;\n",
              "    }\n",
              "\n",
              "    [theme=dark] .colab-df-convert {\n",
              "      background-color: #3B4455;\n",
              "      fill: #D2E3FC;\n",
              "    }\n",
              "\n",
              "    [theme=dark] .colab-df-convert:hover {\n",
              "      background-color: #434B5C;\n",
              "      box-shadow: 0px 1px 3px 1px rgba(0, 0, 0, 0.15);\n",
              "      filter: drop-shadow(0px 1px 2px rgba(0, 0, 0, 0.3));\n",
              "      fill: #FFFFFF;\n",
              "    }\n",
              "  </style>\n",
              "\n",
              "    <script>\n",
              "      const buttonEl =\n",
              "        document.querySelector('#df-ec9723c9-9860-4094-b6ce-2c759198c0dc button.colab-df-convert');\n",
              "      buttonEl.style.display =\n",
              "        google.colab.kernel.accessAllowed ? 'block' : 'none';\n",
              "\n",
              "      async function convertToInteractive(key) {\n",
              "        const element = document.querySelector('#df-ec9723c9-9860-4094-b6ce-2c759198c0dc');\n",
              "        const dataTable =\n",
              "          await google.colab.kernel.invokeFunction('convertToInteractive',\n",
              "                                                    [key], {});\n",
              "        if (!dataTable) return;\n",
              "\n",
              "        const docLinkHtml = 'Like what you see? Visit the ' +\n",
              "          '<a target=\"_blank\" href=https://colab.research.google.com/notebooks/data_table.ipynb>data table notebook</a>'\n",
              "          + ' to learn more about interactive tables.';\n",
              "        element.innerHTML = '';\n",
              "        dataTable['output_type'] = 'display_data';\n",
              "        await google.colab.output.renderOutput(dataTable, element);\n",
              "        const docLink = document.createElement('div');\n",
              "        docLink.innerHTML = docLinkHtml;\n",
              "        element.appendChild(docLink);\n",
              "      }\n",
              "    </script>\n",
              "  </div>\n",
              "\n",
              "\n",
              "<div id=\"df-d445163f-e215-4458-9d3f-1e588d761a37\">\n",
              "  <button class=\"colab-df-quickchart\" onclick=\"quickchart('df-d445163f-e215-4458-9d3f-1e588d761a37')\"\n",
              "            title=\"Suggest charts\"\n",
              "            style=\"display:none;\">\n",
              "\n",
              "<svg xmlns=\"http://www.w3.org/2000/svg\" height=\"24px\"viewBox=\"0 0 24 24\"\n",
              "     width=\"24px\">\n",
              "    <g>\n",
              "        <path d=\"M19 3H5c-1.1 0-2 .9-2 2v14c0 1.1.9 2 2 2h14c1.1 0 2-.9 2-2V5c0-1.1-.9-2-2-2zM9 17H7v-7h2v7zm4 0h-2V7h2v10zm4 0h-2v-4h2v4z\"/>\n",
              "    </g>\n",
              "</svg>\n",
              "  </button>\n",
              "\n",
              "<style>\n",
              "  .colab-df-quickchart {\n",
              "      --bg-color: #E8F0FE;\n",
              "      --fill-color: #1967D2;\n",
              "      --hover-bg-color: #E2EBFA;\n",
              "      --hover-fill-color: #174EA6;\n",
              "      --disabled-fill-color: #AAA;\n",
              "      --disabled-bg-color: #DDD;\n",
              "  }\n",
              "\n",
              "  [theme=dark] .colab-df-quickchart {\n",
              "      --bg-color: #3B4455;\n",
              "      --fill-color: #D2E3FC;\n",
              "      --hover-bg-color: #434B5C;\n",
              "      --hover-fill-color: #FFFFFF;\n",
              "      --disabled-bg-color: #3B4455;\n",
              "      --disabled-fill-color: #666;\n",
              "  }\n",
              "\n",
              "  .colab-df-quickchart {\n",
              "    background-color: var(--bg-color);\n",
              "    border: none;\n",
              "    border-radius: 50%;\n",
              "    cursor: pointer;\n",
              "    display: none;\n",
              "    fill: var(--fill-color);\n",
              "    height: 32px;\n",
              "    padding: 0;\n",
              "    width: 32px;\n",
              "  }\n",
              "\n",
              "  .colab-df-quickchart:hover {\n",
              "    background-color: var(--hover-bg-color);\n",
              "    box-shadow: 0 1px 2px rgba(60, 64, 67, 0.3), 0 1px 3px 1px rgba(60, 64, 67, 0.15);\n",
              "    fill: var(--button-hover-fill-color);\n",
              "  }\n",
              "\n",
              "  .colab-df-quickchart-complete:disabled,\n",
              "  .colab-df-quickchart-complete:disabled:hover {\n",
              "    background-color: var(--disabled-bg-color);\n",
              "    fill: var(--disabled-fill-color);\n",
              "    box-shadow: none;\n",
              "  }\n",
              "\n",
              "  .colab-df-spinner {\n",
              "    border: 2px solid var(--fill-color);\n",
              "    border-color: transparent;\n",
              "    border-bottom-color: var(--fill-color);\n",
              "    animation:\n",
              "      spin 1s steps(1) infinite;\n",
              "  }\n",
              "\n",
              "  @keyframes spin {\n",
              "    0% {\n",
              "      border-color: transparent;\n",
              "      border-bottom-color: var(--fill-color);\n",
              "      border-left-color: var(--fill-color);\n",
              "    }\n",
              "    20% {\n",
              "      border-color: transparent;\n",
              "      border-left-color: var(--fill-color);\n",
              "      border-top-color: var(--fill-color);\n",
              "    }\n",
              "    30% {\n",
              "      border-color: transparent;\n",
              "      border-left-color: var(--fill-color);\n",
              "      border-top-color: var(--fill-color);\n",
              "      border-right-color: var(--fill-color);\n",
              "    }\n",
              "    40% {\n",
              "      border-color: transparent;\n",
              "      border-right-color: var(--fill-color);\n",
              "      border-top-color: var(--fill-color);\n",
              "    }\n",
              "    60% {\n",
              "      border-color: transparent;\n",
              "      border-right-color: var(--fill-color);\n",
              "    }\n",
              "    80% {\n",
              "      border-color: transparent;\n",
              "      border-right-color: var(--fill-color);\n",
              "      border-bottom-color: var(--fill-color);\n",
              "    }\n",
              "    90% {\n",
              "      border-color: transparent;\n",
              "      border-bottom-color: var(--fill-color);\n",
              "    }\n",
              "  }\n",
              "</style>\n",
              "\n",
              "  <script>\n",
              "    async function quickchart(key) {\n",
              "      const quickchartButtonEl =\n",
              "        document.querySelector('#' + key + ' button');\n",
              "      quickchartButtonEl.disabled = true;  // To prevent multiple clicks.\n",
              "      quickchartButtonEl.classList.add('colab-df-spinner');\n",
              "      try {\n",
              "        const charts = await google.colab.kernel.invokeFunction(\n",
              "            'suggestCharts', [key], {});\n",
              "      } catch (error) {\n",
              "        console.error('Error during call to suggestCharts:', error);\n",
              "      }\n",
              "      quickchartButtonEl.classList.remove('colab-df-spinner');\n",
              "      quickchartButtonEl.classList.add('colab-df-quickchart-complete');\n",
              "    }\n",
              "    (() => {\n",
              "      let quickchartButtonEl =\n",
              "        document.querySelector('#df-d445163f-e215-4458-9d3f-1e588d761a37 button');\n",
              "      quickchartButtonEl.style.display =\n",
              "        google.colab.kernel.accessAllowed ? 'block' : 'none';\n",
              "    })();\n",
              "  </script>\n",
              "</div>\n",
              "    </div>\n",
              "  </div>\n"
            ]
          },
          "metadata": {},
          "execution_count": 190
        }
      ]
    },
    {
      "cell_type": "code",
      "source": [
        "#Analisando valores mínimo, máximo, média e mediana:\n",
        "\n",
        "min_valor = combined_df['valor_total_bruto'].min()\n",
        "max_valor = combined_df['valor_total_bruto'].max()\n",
        "print(f\"Valor mínimo: {min_valor}\")\n",
        "print(f\"Valor máximo: {max_valor}\")\n",
        "\n",
        "media = combined_df['valor_total_bruto'].mean()\n",
        "mediana = combined_df['valor_total_bruto'].median()\n",
        "print(f\"Média: {media}\")\n",
        "print(f\"Mediana: {mediana}\")\n"
      ],
      "metadata": {
        "colab": {
          "base_uri": "https://localhost:8080/"
        },
        "id": "UR6-N_23W-OH",
        "outputId": "1092b4f2-61ea-4382-f33c-3ef382b6161b"
      },
      "execution_count": null,
      "outputs": [
        {
          "output_type": "stream",
          "name": "stdout",
          "text": [
            "Valor mínimo: 28.0\n",
            "Valor máximo: 22484.0\n",
            "Média: 394.27202472952087\n",
            "Mediana: 84.0\n"
          ]
        }
      ]
    },
    {
      "cell_type": "code",
      "source": [
        "#box plot\n",
        "df_tratamento[['valor_total_bruto']].boxplot()"
      ],
      "metadata": {
        "colab": {
          "base_uri": "https://localhost:8080/",
          "height": 447
        },
        "id": "aVY2sUZTZIqk",
        "outputId": "c6ab9c84-8827-4793-b010-6f0329f7dbe3"
      },
      "execution_count": null,
      "outputs": [
        {
          "output_type": "execute_result",
          "data": {
            "text/plain": [
              "<Axes: >"
            ]
          },
          "metadata": {},
          "execution_count": 189
        },
        {
          "output_type": "display_data",
          "data": {
            "text/plain": [
              "<Figure size 640x480 with 1 Axes>"
            ],
            "image/png": "[encoded data removed]"
          },
          "metadata": {}
        }
      ]
    },
    {
      "cell_type": "markdown",
      "source": [
        "Ainda assim existem dados com valores bem altos (outliers). Entretanto, analisando os casos separadamente, não parecem ser erros, apenas compras pouco usuais."
      ],
      "metadata": {
        "id": "Xx5z0Yu0nyWF"
      }
    },
    {
      "cell_type": "markdown",
      "source": [
        "**Exercício 4**"
      ],
      "metadata": {
        "id": "leuOpeRhkjKQ"
      }
    },
    {
      "cell_type": "code",
      "source": [
        "#Converter a coluna 'data' para o formato de data\n",
        "df_tratamento['data'] = pd.to_datetime(df_tratamento['data'], format='%d/%m/%Y')\n",
        "df_tratamento['data_formato_novo'] = pd.to_datetime(df_tratamento['data'], format='%d/%m/%Y').dt.strftime('%Y-%m-%d')\n",
        "\n",
        "#Filtrar o DataFrame para incluir apenas o produto \"Penas Gatito\"\n",
        "produto_escolhido = \"Penas Gatito\"\n",
        "df_produto_escolhido = df_tratamento[df_tratamento['produto'] == produto_escolhido]\n",
        "\n",
        "grupo_por_mes_ano_produto = df_produto_escolhido.groupby([df_produto_escolhido['data'].dt.to_period('M')])['quantidade'].sum()\n"
      ],
      "metadata": {
        "id": "f9wRbENEko97"
      },
      "execution_count": null,
      "outputs": []
    },
    {
      "cell_type": "code",
      "source": [
        "#A. Criar um gráfico de linha para a série temporal de quantidade de produto por mês e ano\n",
        "plt.figure(figsize=(12, 6))\n",
        "grupo_por_mes_ano_produto.plot()\n",
        "plt.title(f'Série Temporal da Quantidade do Produto \"{produto_escolhido}\" por Mês e Ano')\n",
        "plt.xlabel('Mês e Ano')\n",
        "plt.ylabel('Quantidade')\n",
        "plt.grid(True)\n",
        "plt.legend([produto_escolhido], title='Produto', bbox_to_anchor=(1.05, 1), loc='upper left')\n",
        "plt.show()"
      ],
      "metadata": {
        "colab": {
          "base_uri": "https://localhost:8080/",
          "height": 581
        },
        "id": "FPGLp_D5g1WC",
        "outputId": "7e2a4ec9-bf14-4559-f66b-189692585c6a"
      },
      "execution_count": null,
      "outputs": [
        {
          "output_type": "display_data",
          "data": {
            "text/plain": [
              "<Figure size 1200x600 with 1 Axes>"
            ],
            "image/png": "[encoded data removed]"
          },
          "metadata": {}
        }
      ]
    },
    {
      "cell_type": "code",
      "source": [
        "#B. Aplicar o teste de estacionariedade.\n",
        "result = adfuller(grupo_por_mes_ano_produto)\n",
        "print('Estatística ADF:', result[0])\n",
        "print('P-Value:', result[1])\n",
        "print('Valores críticos:', result[4])\n",
        "\n",
        "if result[1] <= 0.05:\n",
        "    print('A série é estacionária.')\n",
        "else:\n",
        "    print('A série não é estacionária e pode precisar de transformação.')\n"
      ],
      "metadata": {
        "id": "31Oa61V-naAD",
        "colab": {
          "base_uri": "https://localhost:8080/"
        },
        "outputId": "2585519b-3323-4a3c-c9c0-0a48bb0d2aba"
      },
      "execution_count": null,
      "outputs": [
        {
          "output_type": "stream",
          "name": "stdout",
          "text": [
            "Estatística ADF: -2.039245275812784\n",
            "P-Value: 0.269634810328626\n",
            "Valores críticos: {'1%': -3.769732625845229, '5%': -3.005425537190083, '10%': -2.6425009917355373}\n",
            "A série não é estacionária e pode precisar de transformação.\n"
          ]
        }
      ]
    },
    {
      "cell_type": "code",
      "source": [
        "#C. Aplicar o teste de estacionariedade da série transformada\n",
        "#Fazer a transformação\n",
        "serie_temporal_diferenciada = grupo_por_mes_ano_produto.diff(periods=1).dropna()\n",
        "result_diferenciado = adfuller(serie_temporal_diferenciada)\n",
        "\n",
        "#Imprimir resultado da transformação\n",
        "print('Estatística ADF após a transformação:', result_diferenciado[0])\n",
        "print('P-Value após a transformação:', result_diferenciado[1])\n",
        "print('Valores críticos após a transformação:', result_diferenciado[4])\n",
        "\n",
        "if result_diferenciado[1] <= 0.05:\n",
        "    print('A série transformada é estacionária.')\n",
        "else:\n",
        "    print('A série transformada não é estacionária e pode precisar de transformação adicional ou outra abordagem.')\n"
      ],
      "metadata": {
        "id": "pgsqLLpSnlF5",
        "colab": {
          "base_uri": "https://localhost:8080/"
        },
        "outputId": "0b9ad9b0-9192-4bd8-b915-0eb63025a73a"
      },
      "execution_count": null,
      "outputs": [
        {
          "output_type": "stream",
          "name": "stdout",
          "text": [
            "Estatística ADF após a transformação: -11.900888467629898\n",
            "P-Value após a transformação: 5.578806122883552e-22\n",
            "Valores críticos após a transformação: {'1%': -3.769732625845229, '5%': -3.005425537190083, '10%': -2.6425009917355373}\n",
            "A série transformada é estacionária.\n"
          ]
        }
      ]
    },
    {
      "cell_type": "code",
      "source": [
        "#D. Gráfico da série transformada\n",
        "#Converter a série temporal para um formato numérico\n",
        "serie_temporal_diferenciada = np.array(serie_temporal_diferenciada)\n",
        "\n",
        "#Criar um gráfico da série transformada diferenciada\n",
        "plt.figure(figsize=(12, 6))\n",
        "plt.plot(serie_temporal_diferenciada)\n",
        "plt.title(f'Série Temporal da Quantidade do Produto \"{produto_escolhido}\" Após a Diferenciação')\n",
        "plt.xlabel('Mês e Ano')\n",
        "plt.ylabel('Quantidade Diferenciada')\n",
        "plt.grid(True)\n",
        "plt.show()\n"
      ],
      "metadata": {
        "id": "DJlCLVNFnm57",
        "colab": {
          "base_uri": "https://localhost:8080/",
          "height": 565
        },
        "outputId": "6018484d-bae7-4f06-a90f-6910d55644d6"
      },
      "execution_count": null,
      "outputs": [
        {
          "output_type": "display_data",
          "data": {
            "text/plain": [
              "<Figure size 1200x600 with 1 Axes>"
            ],
            "image/png": "[encoded data removed]"
          },
          "metadata": {}
        }
      ]
    },
    {
      "cell_type": "markdown",
      "source": [
        "**Exercício 5**"
      ],
      "metadata": {
        "id": "oiWjNUwdktmz"
      }
    },
    {
      "cell_type": "code",
      "source": [
        "#Após aplicar a limpeza e tratamento nos dados, calcule a média e mediana por categoria de produto e o ranking dos produtos mais vendidos.\n",
        "#Agrupar por categoria e calcular a media e mediana\n",
        "grupo_por_categoria = df_tratamento.groupby('categoriaprod')\n",
        "media_qtd_por_categoria = grupo_por_categoria['quantidade'].mean()\n",
        "mediana_qtd_por_categoria = grupo_por_categoria['quantidade'].median()\n",
        "media_valor_por_categoria = grupo_por_categoria['valor'].mean()\n",
        "mediana_valor_por_categoria = grupo_por_categoria['valor'].median()\n",
        "\n",
        "resumo_por_categoria = pd.DataFrame({'Média quantidade': media_qtd_por_categoria, 'Mediana quantidade': mediana_qtd_por_categoria, 'Média valor': media_valor_por_categoria, 'Mediana valor': mediana_valor_por_categoria})\n",
        "(resumo_por_categoria)"
      ],
      "metadata": {
        "colab": {
          "base_uri": "https://localhost:8080/",
          "height": 300
        },
        "id": "Srs9wTsqfsGx",
        "outputId": "2a3eb6fd-8e62-4a2d-efe2-ba4f496aceec"
      },
      "execution_count": null,
      "outputs": [
        {
          "output_type": "execute_result",
          "data": {
            "text/plain": [
              "                         Média quantidade  Mediana quantidade  Média valor  \\\n",
              "categoriaprod                                                                \n",
              "Acessório                        3.135114                 1.0    54.047957   \n",
              "Alimentação                      4.069991                 2.0   109.177731   \n",
              "Bebedouros e Comedouros          2.697003                 1.0   530.660975   \n",
              "Brinquedo                        3.297683                 1.0    19.285655   \n",
              "Higiene e Limpeza                3.111727                 1.0    48.832497   \n",
              "Medicamento                      3.554737                 2.0   158.366134   \n",
              "Petisco                          3.608583                 2.0    27.319203   \n",
              "\n",
              "                         Mediana valor  \n",
              "categoriaprod                           \n",
              "Acessório                        45.22  \n",
              "Alimentação                      54.53  \n",
              "Bebedouros e Comedouros         851.20  \n",
              "Brinquedo                        19.04  \n",
              "Higiene e Limpeza                38.57  \n",
              "Medicamento                      81.76  \n",
              "Petisco                          32.48  "
            ],
            "text/html": [
              "\n",
              "  <div id=\"df-4cbbc9f2-9ea7-4d37-9a05-8271be194548\" class=\"colab-df-container\">\n",
              "    <div>\n",
              "<style scoped>\n",
              "    .dataframe tbody tr th:only-of-type {\n",
              "        vertical-align: middle;\n",
              "    }\n",
              "\n",
              "    .dataframe tbody tr th {\n",
              "        vertical-align: top;\n",
              "    }\n",
              "\n",
              "    .dataframe thead th {\n",
              "        text-align: right;\n",
              "    }\n",
              "</style>\n",
              "<table border=\"1\" class=\"dataframe\">\n",
              "  <thead>\n",
              "    <tr style=\"text-align: right;\">\n",
              "      <th></th>\n",
              "      <th>Média quantidade</th>\n",
              "      <th>Mediana quantidade</th>\n",
              "      <th>Média valor</th>\n",
              "      <th>Mediana valor</th>\n",
              "    </tr>\n",
              "    <tr>\n",
              "      <th>categoriaprod</th>\n",
              "      <th></th>\n",
              "      <th></th>\n",
              "      <th></th>\n",
              "      <th></th>\n",
              "    </tr>\n",
              "  </thead>\n",
              "  <tbody>\n",
              "    <tr>\n",
              "      <th>Acessório</th>\n",
              "      <td>3.135114</td>\n",
              "      <td>1.0</td>\n",
              "      <td>54.047957</td>\n",
              "      <td>45.22</td>\n",
              "    </tr>\n",
              "    <tr>\n",
              "      <th>Alimentação</th>\n",
              "      <td>4.069991</td>\n",
              "      <td>2.0</td>\n",
              "      <td>109.177731</td>\n",
              "      <td>54.53</td>\n",
              "    </tr>\n",
              "    <tr>\n",
              "      <th>Bebedouros e Comedouros</th>\n",
              "      <td>2.697003</td>\n",
              "      <td>1.0</td>\n",
              "      <td>530.660975</td>\n",
              "      <td>851.20</td>\n",
              "    </tr>\n",
              "    <tr>\n",
              "      <th>Brinquedo</th>\n",
              "      <td>3.297683</td>\n",
              "      <td>1.0</td>\n",
              "      <td>19.285655</td>\n",
              "      <td>19.04</td>\n",
              "    </tr>\n",
              "    <tr>\n",
              "      <th>Higiene e Limpeza</th>\n",
              "      <td>3.111727</td>\n",
              "      <td>1.0</td>\n",
              "      <td>48.832497</td>\n",
              "      <td>38.57</td>\n",
              "    </tr>\n",
              "    <tr>\n",
              "      <th>Medicamento</th>\n",
              "      <td>3.554737</td>\n",
              "      <td>2.0</td>\n",
              "      <td>158.366134</td>\n",
              "      <td>81.76</td>\n",
              "    </tr>\n",
              "    <tr>\n",
              "      <th>Petisco</th>\n",
              "      <td>3.608583</td>\n",
              "      <td>2.0</td>\n",
              "      <td>27.319203</td>\n",
              "      <td>32.48</td>\n",
              "    </tr>\n",
              "  </tbody>\n",
              "</table>\n",
              "</div>\n",
              "    <div class=\"colab-df-buttons\">\n",
              "\n",
              "  <div class=\"colab-df-container\">\n",
              "    <button class=\"colab-df-convert\" onclick=\"convertToInteractive('df-4cbbc9f2-9ea7-4d37-9a05-8271be194548')\"\n",
              "            title=\"Convert this dataframe to an interactive table.\"\n",
              "            style=\"display:none;\">\n",
              "\n",
              "  <svg xmlns=\"http://www.w3.org/2000/svg\" height=\"24px\" viewBox=\"0 -960 960 960\">\n",
              "    <path d=\"M120-120v-720h720v720H120Zm60-500h600v-160H180v160Zm220 220h160v-160H400v160Zm0 220h160v-160H400v160ZM180-400h160v-160H180v160Zm440 0h160v-160H620v160ZM180-180h160v-160H180v160Zm440 0h160v-160H620v160Z\"/>\n",
              "  </svg>\n",
              "    </button>\n",
              "\n",
              "  <style>\n",
              "    .colab-df-container {\n",
              "      display:flex;\n",
              "      gap: 12px;\n",
              "    }\n",
              "\n",
              "    .colab-df-convert {\n",
              "      background-color: #E8F0FE;\n",
              "      border: none;\n",
              "      border-radius: 50%;\n",
              "      cursor: pointer;\n",
              "      display: none;\n",
              "      fill: #1967D2;\n",
              "      height: 32px;\n",
              "      padding: 0 0 0 0;\n",
              "      width: 32px;\n",
              "    }\n",
              "\n",
              "    .colab-df-convert:hover {\n",
              "      background-color: #E2EBFA;\n",
              "      box-shadow: 0px 1px 2px rgba(60, 64, 67, 0.3), 0px 1px 3px 1px rgba(60, 64, 67, 0.15);\n",
              "      fill: #174EA6;\n",
              "    }\n",
              "\n",
              "    .colab-df-buttons div {\n",
              "      margin-bottom: 4px;\n",
              "    }\n",
              "\n",
              "    [theme=dark] .colab-df-convert {\n",
              "      background-color: #3B4455;\n",
              "      fill: #D2E3FC;\n",
              "    }\n",
              "\n",
              "    [theme=dark] .colab-df-convert:hover {\n",
              "      background-color: #434B5C;\n",
              "      box-shadow: 0px 1px 3px 1px rgba(0, 0, 0, 0.15);\n",
              "      filter: drop-shadow(0px 1px 2px rgba(0, 0, 0, 0.3));\n",
              "      fill: #FFFFFF;\n",
              "    }\n",
              "  </style>\n",
              "\n",
              "    <script>\n",
              "      const buttonEl =\n",
              "        document.querySelector('#df-4cbbc9f2-9ea7-4d37-9a05-8271be194548 button.colab-df-convert');\n",
              "      buttonEl.style.display =\n",
              "        google.colab.kernel.accessAllowed ? 'block' : 'none';\n",
              "\n",
              "      async function convertToInteractive(key) {\n",
              "        const element = document.querySelector('#df-4cbbc9f2-9ea7-4d37-9a05-8271be194548');\n",
              "        const dataTable =\n",
              "          await google.colab.kernel.invokeFunction('convertToInteractive',\n",
              "                                                    [key], {});\n",
              "        if (!dataTable) return;\n",
              "\n",
              "        const docLinkHtml = 'Like what you see? Visit the ' +\n",
              "          '<a target=\"_blank\" href=https://colab.research.google.com/notebooks/data_table.ipynb>data table notebook</a>'\n",
              "          + ' to learn more about interactive tables.';\n",
              "        element.innerHTML = '';\n",
              "        dataTable['output_type'] = 'display_data';\n",
              "        await google.colab.output.renderOutput(dataTable, element);\n",
              "        const docLink = document.createElement('div');\n",
              "        docLink.innerHTML = docLinkHtml;\n",
              "        element.appendChild(docLink);\n",
              "      }\n",
              "    </script>\n",
              "  </div>\n",
              "\n",
              "\n",
              "<div id=\"df-9f93b01d-cc17-46dd-a15a-3245b12f9c9b\">\n",
              "  <button class=\"colab-df-quickchart\" onclick=\"quickchart('df-9f93b01d-cc17-46dd-a15a-3245b12f9c9b')\"\n",
              "            title=\"Suggest charts\"\n",
              "            style=\"display:none;\">\n",
              "\n",
              "<svg xmlns=\"http://www.w3.org/2000/svg\" height=\"24px\"viewBox=\"0 0 24 24\"\n",
              "     width=\"24px\">\n",
              "    <g>\n",
              "        <path d=\"M19 3H5c-1.1 0-2 .9-2 2v14c0 1.1.9 2 2 2h14c1.1 0 2-.9 2-2V5c0-1.1-.9-2-2-2zM9 17H7v-7h2v7zm4 0h-2V7h2v10zm4 0h-2v-4h2v4z\"/>\n",
              "    </g>\n",
              "</svg>\n",
              "  </button>\n",
              "\n",
              "<style>\n",
              "  .colab-df-quickchart {\n",
              "      --bg-color: #E8F0FE;\n",
              "      --fill-color: #1967D2;\n",
              "      --hover-bg-color: #E2EBFA;\n",
              "      --hover-fill-color: #174EA6;\n",
              "      --disabled-fill-color: #AAA;\n",
              "      --disabled-bg-color: #DDD;\n",
              "  }\n",
              "\n",
              "  [theme=dark] .colab-df-quickchart {\n",
              "      --bg-color: #3B4455;\n",
              "      --fill-color: #D2E3FC;\n",
              "      --hover-bg-color: #434B5C;\n",
              "      --hover-fill-color: #FFFFFF;\n",
              "      --disabled-bg-color: #3B4455;\n",
              "      --disabled-fill-color: #666;\n",
              "  }\n",
              "\n",
              "  .colab-df-quickchart {\n",
              "    background-color: var(--bg-color);\n",
              "    border: none;\n",
              "    border-radius: 50%;\n",
              "    cursor: pointer;\n",
              "    display: none;\n",
              "    fill: var(--fill-color);\n",
              "    height: 32px;\n",
              "    padding: 0;\n",
              "    width: 32px;\n",
              "  }\n",
              "\n",
              "  .colab-df-quickchart:hover {\n",
              "    background-color: var(--hover-bg-color);\n",
              "    box-shadow: 0 1px 2px rgba(60, 64, 67, 0.3), 0 1px 3px 1px rgba(60, 64, 67, 0.15);\n",
              "    fill: var(--button-hover-fill-color);\n",
              "  }\n",
              "\n",
              "  .colab-df-quickchart-complete:disabled,\n",
              "  .colab-df-quickchart-complete:disabled:hover {\n",
              "    background-color: var(--disabled-bg-color);\n",
              "    fill: var(--disabled-fill-color);\n",
              "    box-shadow: none;\n",
              "  }\n",
              "\n",
              "  .colab-df-spinner {\n",
              "    border: 2px solid var(--fill-color);\n",
              "    border-color: transparent;\n",
              "    border-bottom-color: var(--fill-color);\n",
              "    animation:\n",
              "      spin 1s steps(1) infinite;\n",
              "  }\n",
              "\n",
              "  @keyframes spin {\n",
              "    0% {\n",
              "      border-color: transparent;\n",
              "      border-bottom-color: var(--fill-color);\n",
              "      border-left-color: var(--fill-color);\n",
              "    }\n",
              "    20% {\n",
              "      border-color: transparent;\n",
              "      border-left-color: var(--fill-color);\n",
              "      border-top-color: var(--fill-color);\n",
              "    }\n",
              "    30% {\n",
              "      border-color: transparent;\n",
              "      border-left-color: var(--fill-color);\n",
              "      border-top-color: var(--fill-color);\n",
              "      border-right-color: var(--fill-color);\n",
              "    }\n",
              "    40% {\n",
              "      border-color: transparent;\n",
              "      border-right-color: var(--fill-color);\n",
              "      border-top-color: var(--fill-color);\n",
              "    }\n",
              "    60% {\n",
              "      border-color: transparent;\n",
              "      border-right-color: var(--fill-color);\n",
              "    }\n",
              "    80% {\n",
              "      border-color: transparent;\n",
              "      border-right-color: var(--fill-color);\n",
              "      border-bottom-color: var(--fill-color);\n",
              "    }\n",
              "    90% {\n",
              "      border-color: transparent;\n",
              "      border-bottom-color: var(--fill-color);\n",
              "    }\n",
              "  }\n",
              "</style>\n",
              "\n",
              "  <script>\n",
              "    async function quickchart(key) {\n",
              "      const quickchartButtonEl =\n",
              "        document.querySelector('#' + key + ' button');\n",
              "      quickchartButtonEl.disabled = true;  // To prevent multiple clicks.\n",
              "      quickchartButtonEl.classList.add('colab-df-spinner');\n",
              "      try {\n",
              "        const charts = await google.colab.kernel.invokeFunction(\n",
              "            'suggestCharts', [key], {});\n",
              "      } catch (error) {\n",
              "        console.error('Error during call to suggestCharts:', error);\n",
              "      }\n",
              "      quickchartButtonEl.classList.remove('colab-df-spinner');\n",
              "      quickchartButtonEl.classList.add('colab-df-quickchart-complete');\n",
              "    }\n",
              "    (() => {\n",
              "      let quickchartButtonEl =\n",
              "        document.querySelector('#df-9f93b01d-cc17-46dd-a15a-3245b12f9c9b button');\n",
              "      quickchartButtonEl.style.display =\n",
              "        google.colab.kernel.accessAllowed ? 'block' : 'none';\n",
              "    })();\n",
              "  </script>\n",
              "</div>\n",
              "    </div>\n",
              "  </div>\n"
            ]
          },
          "metadata": {},
          "execution_count": 200
        }
      ]
    },
    {
      "cell_type": "code",
      "source": [
        "#Ranking de produtos mais vendidos por quantidade\n",
        "grupo_por_produto = df_tratamento.groupby('produto')\n",
        "total_vendido_por_produto = grupo_por_produto['quantidade'].sum()\n",
        "ranking_produtos = pd.DataFrame({'Total Vendido': total_vendido_por_produto})\n",
        "ranking_produtos_ordenado = ranking_produtos.sort_values(by='Total Vendido', ascending=False)\n",
        "\n",
        "print(ranking_produtos_ordenado)"
      ],
      "metadata": {
        "colab": {
          "base_uri": "https://localhost:8080/"
        },
        "id": "DNSff-oNhQ-W",
        "outputId": "c65c995a-feb0-4b12-c162-f4b3ba81a896"
      },
      "execution_count": null,
      "outputs": [
        {
          "output_type": "stream",
          "name": "stdout",
          "text": [
            "                                                    Total Vendido\n",
            "produto                                                          \n",
            "Biscoito  True Champion 300g                                17823\n",
            "Shampoo vegano para cachorro e gato de camomila...          15742\n",
            "Ração Úmida Royal Canin Lata Veterinary Cães Ad...          15158\n",
            "Bandana Disney Mickey Fábrica Petti                         15005\n",
            "Meias esportivas para cães para ambientes inter...          14912\n",
            "Mordedor de Corda Bola                                      14552\n",
            "Ração Royal Canin Exigent Gatos Adultos 1,5Kg               14166\n",
            "Whiskas Petisco Temptations Anti Bola de Pelo 40g           14057\n",
            "Vitamina E Granulado BigForce                               13493\n",
            "Antipulgas e Carrapatos MSD Bravecto para Pet d...          13265\n",
            "Pote Petisco Para Cachorro Bifinho Sabor Carne ...          13219\n",
            "Ração Royal Canin Club Performance para Cães Ad...          13097\n",
            "Cama Coração Coroa Pet Nest Almofada Lavável                12521\n",
            "Suplemento Alimentar Glutamina Mundo Animal Nut...          12337\n",
            "Roupa para Gato Petti                                       12017\n",
            "Bola Pet Vinil Big Blue                                     11933\n",
            "Biscoito Pedigree Biscrok Multi para Cães Adult...          11740\n",
            "Bebedouro e Comedouro Automático para Cães e Ga...          11657\n",
            "Roupa para Cão Billaboard                                   11311\n",
            "Escova Pet Rasqueadeira Tira Pelos Cachorro e G...          11227\n",
            "Kit Banho e Tosa com Escova PetShop Cãopeon                 10658\n",
            "Penas Gatito                                                10515\n",
            "Cama média almofadada Pity                                  10411\n",
            "Nutri Alimentador Inteligente Automático Câmera...          10391\n"
          ]
        }
      ]
    },
    {
      "cell_type": "code",
      "source": [
        "#Ranking de produtos mais vendidos por pedido\n",
        "\n",
        "# Agrupar o DataFrame por cada pedido e contar o número de ocorrências de cada produto em cada grupo\n",
        "grupo_por_pedido = df_tratamento['produto'].value_counts().reset_index(name='quantidade_pedida')\n",
        "\n",
        "# Ordenar o DataFrame pelo número de ocorrências de produtos em cada pedido (quantidade_pedida) em ordem descendente\n",
        "ranking_produtos_por_pedido = grupo_por_pedido.sort_values(by='quantidade_pedida', ascending=False)\n",
        "\n",
        "# Agora, ranking_produtos_por_pedido contém o ranking de produtos mais pedidos por pedido\n",
        "(ranking_produtos_por_pedido)"
      ],
      "metadata": {
        "colab": {
          "base_uri": "https://localhost:8080/",
          "height": 802
        },
        "id": "A3tXXy78pWEJ",
        "outputId": "690cdf9e-5dda-4e1c-b23f-7b66dd57cdbb"
      },
      "execution_count": null,
      "outputs": [
        {
          "output_type": "execute_result",
          "data": {
            "text/plain": [
              "                                                index  quantidade_pedida\n",
              "0                              Mordedor de Corda Bola               4140\n",
              "1   Meias esportivas para cães para ambientes inte...               4120\n",
              "2        Cama Coração Coroa Pet Nest Almofada Lavável               4120\n",
              "3                           Roupa para Cão Billaboard               4112\n",
              "4                               Roupa para Gato Petti               4110\n",
              "5                          Cama média almofadada Pity               4103\n",
              "6         Kit Banho e Tosa com Escova PetShop Cãopeon               4097\n",
              "7   Nutri Alimentador Inteligente Automático Câmer...               4096\n",
              "8                                        Penas Gatito               4093\n",
              "9   Escova Pet Rasqueadeira Tira Pelos Cachorro e ...               4080\n",
              "10  Bebedouro e Comedouro Automático para Cães e G...               4079\n",
              "11  Shampoo vegano para cachorro e gato de camomil...               3915\n",
              "12      Ração Royal Canin Exigent Gatos Adultos 1,5Kg               3779\n",
              "13               Bandana Disney Mickey Fábrica Petti                3733\n",
              "14                       Biscoito  True Champion 300g               3729\n",
              "15  Antipulgas e Carrapatos MSD Bravecto para Pet ...               3711\n",
              "16                      Vitamina E Granulado BigForce               3709\n",
              "17  Ração Úmida Royal Canin Lata Veterinary Cães A...               3675\n",
              "18  Pote Petisco Para Cachorro Bifinho Sabor Carne...               3629\n",
              "19  Ração Royal Canin Club Performance para Cães A...               3619\n",
              "20  Whiskas Petisco Temptations Anti Bola de Pelo 40g               3607\n",
              "21  Suplemento Alimentar Glutamina Mundo Animal Nu...               3578\n",
              "22  Biscoito Pedigree Biscrok Multi para Cães Adul...               3576\n",
              "23                            Bola Pet Vinil Big Blue               2987"
            ],
            "text/html": [
              "\n",
              "  <div id=\"df-1af5fac6-9da0-48d5-8b40-fe7088bae063\" class=\"colab-df-container\">\n",
              "    <div>\n",
              "<style scoped>\n",
              "    .dataframe tbody tr th:only-of-type {\n",
              "        vertical-align: middle;\n",
              "    }\n",
              "\n",
              "    .dataframe tbody tr th {\n",
              "        vertical-align: top;\n",
              "    }\n",
              "\n",
              "    .dataframe thead th {\n",
              "        text-align: right;\n",
              "    }\n",
              "</style>\n",
              "<table border=\"1\" class=\"dataframe\">\n",
              "  <thead>\n",
              "    <tr style=\"text-align: right;\">\n",
              "      <th></th>\n",
              "      <th>index</th>\n",
              "      <th>quantidade_pedida</th>\n",
              "    </tr>\n",
              "  </thead>\n",
              "  <tbody>\n",
              "    <tr>\n",
              "      <th>0</th>\n",
              "      <td>Mordedor de Corda Bola</td>\n",
              "      <td>4140</td>\n",
              "    </tr>\n",
              "    <tr>\n",
              "      <th>1</th>\n",
              "      <td>Meias esportivas para cães para ambientes inte...</td>\n",
              "      <td>4120</td>\n",
              "    </tr>\n",
              "    <tr>\n",
              "      <th>2</th>\n",
              "      <td>Cama Coração Coroa Pet Nest Almofada Lavável</td>\n",
              "      <td>4120</td>\n",
              "    </tr>\n",
              "    <tr>\n",
              "      <th>3</th>\n",
              "      <td>Roupa para Cão Billaboard</td>\n",
              "      <td>4112</td>\n",
              "    </tr>\n",
              "    <tr>\n",
              "      <th>4</th>\n",
              "      <td>Roupa para Gato Petti</td>\n",
              "      <td>4110</td>\n",
              "    </tr>\n",
              "    <tr>\n",
              "      <th>5</th>\n",
              "      <td>Cama média almofadada Pity</td>\n",
              "      <td>4103</td>\n",
              "    </tr>\n",
              "    <tr>\n",
              "      <th>6</th>\n",
              "      <td>Kit Banho e Tosa com Escova PetShop Cãopeon</td>\n",
              "      <td>4097</td>\n",
              "    </tr>\n",
              "    <tr>\n",
              "      <th>7</th>\n",
              "      <td>Nutri Alimentador Inteligente Automático Câmer...</td>\n",
              "      <td>4096</td>\n",
              "    </tr>\n",
              "    <tr>\n",
              "      <th>8</th>\n",
              "      <td>Penas Gatito</td>\n",
              "      <td>4093</td>\n",
              "    </tr>\n",
              "    <tr>\n",
              "      <th>9</th>\n",
              "      <td>Escova Pet Rasqueadeira Tira Pelos Cachorro e ...</td>\n",
              "      <td>4080</td>\n",
              "    </tr>\n",
              "    <tr>\n",
              "      <th>10</th>\n",
              "      <td>Bebedouro e Comedouro Automático para Cães e G...</td>\n",
              "      <td>4079</td>\n",
              "    </tr>\n",
              "    <tr>\n",
              "      <th>11</th>\n",
              "      <td>Shampoo vegano para cachorro e gato de camomil...</td>\n",
              "      <td>3915</td>\n",
              "    </tr>\n",
              "    <tr>\n",
              "      <th>12</th>\n",
              "      <td>Ração Royal Canin Exigent Gatos Adultos 1,5Kg</td>\n",
              "      <td>3779</td>\n",
              "    </tr>\n",
              "    <tr>\n",
              "      <th>13</th>\n",
              "      <td>Bandana Disney Mickey Fábrica Petti</td>\n",
              "      <td>3733</td>\n",
              "    </tr>\n",
              "    <tr>\n",
              "      <th>14</th>\n",
              "      <td>Biscoito  True Champion 300g</td>\n",
              "      <td>3729</td>\n",
              "    </tr>\n",
              "    <tr>\n",
              "      <th>15</th>\n",
              "      <td>Antipulgas e Carrapatos MSD Bravecto para Pet ...</td>\n",
              "      <td>3711</td>\n",
              "    </tr>\n",
              "    <tr>\n",
              "      <th>16</th>\n",
              "      <td>Vitamina E Granulado BigForce</td>\n",
              "      <td>3709</td>\n",
              "    </tr>\n",
              "    <tr>\n",
              "      <th>17</th>\n",
              "      <td>Ração Úmida Royal Canin Lata Veterinary Cães A...</td>\n",
              "      <td>3675</td>\n",
              "    </tr>\n",
              "    <tr>\n",
              "      <th>18</th>\n",
              "      <td>Pote Petisco Para Cachorro Bifinho Sabor Carne...</td>\n",
              "      <td>3629</td>\n",
              "    </tr>\n",
              "    <tr>\n",
              "      <th>19</th>\n",
              "      <td>Ração Royal Canin Club Performance para Cães A...</td>\n",
              "      <td>3619</td>\n",
              "    </tr>\n",
              "    <tr>\n",
              "      <th>20</th>\n",
              "      <td>Whiskas Petisco Temptations Anti Bola de Pelo 40g</td>\n",
              "      <td>3607</td>\n",
              "    </tr>\n",
              "    <tr>\n",
              "      <th>21</th>\n",
              "      <td>Suplemento Alimentar Glutamina Mundo Animal Nu...</td>\n",
              "      <td>3578</td>\n",
              "    </tr>\n",
              "    <tr>\n",
              "      <th>22</th>\n",
              "      <td>Biscoito Pedigree Biscrok Multi para Cães Adul...</td>\n",
              "      <td>3576</td>\n",
              "    </tr>\n",
              "    <tr>\n",
              "      <th>23</th>\n",
              "      <td>Bola Pet Vinil Big Blue</td>\n",
              "      <td>2987</td>\n",
              "    </tr>\n",
              "  </tbody>\n",
              "</table>\n",
              "</div>\n",
              "    <div class=\"colab-df-buttons\">\n",
              "\n",
              "  <div class=\"colab-df-container\">\n",
              "    <button class=\"colab-df-convert\" onclick=\"convertToInteractive('df-1af5fac6-9da0-48d5-8b40-fe7088bae063')\"\n",
              "            title=\"Convert this dataframe to an interactive table.\"\n",
              "            style=\"display:none;\">\n",
              "\n",
              "  <svg xmlns=\"http://www.w3.org/2000/svg\" height=\"24px\" viewBox=\"0 -960 960 960\">\n",
              "    <path d=\"M120-120v-720h720v720H120Zm60-500h600v-160H180v160Zm220 220h160v-160H400v160Zm0 220h160v-160H400v160ZM180-400h160v-160H180v160Zm440 0h160v-160H620v160ZM180-180h160v-160H180v160Zm440 0h160v-160H620v160Z\"/>\n",
              "  </svg>\n",
              "    </button>\n",
              "\n",
              "  <style>\n",
              "    .colab-df-container {\n",
              "      display:flex;\n",
              "      gap: 12px;\n",
              "    }\n",
              "\n",
              "    .colab-df-convert {\n",
              "      background-color: #E8F0FE;\n",
              "      border: none;\n",
              "      border-radius: 50%;\n",
              "      cursor: pointer;\n",
              "      display: none;\n",
              "      fill: #1967D2;\n",
              "      height: 32px;\n",
              "      padding: 0 0 0 0;\n",
              "      width: 32px;\n",
              "    }\n",
              "\n",
              "    .colab-df-convert:hover {\n",
              "      background-color: #E2EBFA;\n",
              "      box-shadow: 0px 1px 2px rgba(60, 64, 67, 0.3), 0px 1px 3px 1px rgba(60, 64, 67, 0.15);\n",
              "      fill: #174EA6;\n",
              "    }\n",
              "\n",
              "    .colab-df-buttons div {\n",
              "      margin-bottom: 4px;\n",
              "    }\n",
              "\n",
              "    [theme=dark] .colab-df-convert {\n",
              "      background-color: #3B4455;\n",
              "      fill: #D2E3FC;\n",
              "    }\n",
              "\n",
              "    [theme=dark] .colab-df-convert:hover {\n",
              "      background-color: #434B5C;\n",
              "      box-shadow: 0px 1px 3px 1px rgba(0, 0, 0, 0.15);\n",
              "      filter: drop-shadow(0px 1px 2px rgba(0, 0, 0, 0.3));\n",
              "      fill: #FFFFFF;\n",
              "    }\n",
              "  </style>\n",
              "\n",
              "    <script>\n",
              "      const buttonEl =\n",
              "        document.querySelector('#df-1af5fac6-9da0-48d5-8b40-fe7088bae063 button.colab-df-convert');\n",
              "      buttonEl.style.display =\n",
              "        google.colab.kernel.accessAllowed ? 'block' : 'none';\n",
              "\n",
              "      async function convertToInteractive(key) {\n",
              "        const element = document.querySelector('#df-1af5fac6-9da0-48d5-8b40-fe7088bae063');\n",
              "        const dataTable =\n",
              "          await google.colab.kernel.invokeFunction('convertToInteractive',\n",
              "                                                    [key], {});\n",
              "        if (!dataTable) return;\n",
              "\n",
              "        const docLinkHtml = 'Like what you see? Visit the ' +\n",
              "          '<a target=\"_blank\" href=https://colab.research.google.com/notebooks/data_table.ipynb>data table notebook</a>'\n",
              "          + ' to learn more about interactive tables.';\n",
              "        element.innerHTML = '';\n",
              "        dataTable['output_type'] = 'display_data';\n",
              "        await google.colab.output.renderOutput(dataTable, element);\n",
              "        const docLink = document.createElement('div');\n",
              "        docLink.innerHTML = docLinkHtml;\n",
              "        element.appendChild(docLink);\n",
              "      }\n",
              "    </script>\n",
              "  </div>\n",
              "\n",
              "\n",
              "<div id=\"df-bdaeb919-792d-45f1-a871-73f571d2b2cb\">\n",
              "  <button class=\"colab-df-quickchart\" onclick=\"quickchart('df-bdaeb919-792d-45f1-a871-73f571d2b2cb')\"\n",
              "            title=\"Suggest charts\"\n",
              "            style=\"display:none;\">\n",
              "\n",
              "<svg xmlns=\"http://www.w3.org/2000/svg\" height=\"24px\"viewBox=\"0 0 24 24\"\n",
              "     width=\"24px\">\n",
              "    <g>\n",
              "        <path d=\"M19 3H5c-1.1 0-2 .9-2 2v14c0 1.1.9 2 2 2h14c1.1 0 2-.9 2-2V5c0-1.1-.9-2-2-2zM9 17H7v-7h2v7zm4 0h-2V7h2v10zm4 0h-2v-4h2v4z\"/>\n",
              "    </g>\n",
              "</svg>\n",
              "  </button>\n",
              "\n",
              "<style>\n",
              "  .colab-df-quickchart {\n",
              "      --bg-color: #E8F0FE;\n",
              "      --fill-color: #1967D2;\n",
              "      --hover-bg-color: #E2EBFA;\n",
              "      --hover-fill-color: #174EA6;\n",
              "      --disabled-fill-color: #AAA;\n",
              "      --disabled-bg-color: #DDD;\n",
              "  }\n",
              "\n",
              "  [theme=dark] .colab-df-quickchart {\n",
              "      --bg-color: #3B4455;\n",
              "      --fill-color: #D2E3FC;\n",
              "      --hover-bg-color: #434B5C;\n",
              "      --hover-fill-color: #FFFFFF;\n",
              "      --disabled-bg-color: #3B4455;\n",
              "      --disabled-fill-color: #666;\n",
              "  }\n",
              "\n",
              "  .colab-df-quickchart {\n",
              "    background-color: var(--bg-color);\n",
              "    border: none;\n",
              "    border-radius: 50%;\n",
              "    cursor: pointer;\n",
              "    display: none;\n",
              "    fill: var(--fill-color);\n",
              "    height: 32px;\n",
              "    padding: 0;\n",
              "    width: 32px;\n",
              "  }\n",
              "\n",
              "  .colab-df-quickchart:hover {\n",
              "    background-color: var(--hover-bg-color);\n",
              "    box-shadow: 0 1px 2px rgba(60, 64, 67, 0.3), 0 1px 3px 1px rgba(60, 64, 67, 0.15);\n",
              "    fill: var(--button-hover-fill-color);\n",
              "  }\n",
              "\n",
              "  .colab-df-quickchart-complete:disabled,\n",
              "  .colab-df-quickchart-complete:disabled:hover {\n",
              "    background-color: var(--disabled-bg-color);\n",
              "    fill: var(--disabled-fill-color);\n",
              "    box-shadow: none;\n",
              "  }\n",
              "\n",
              "  .colab-df-spinner {\n",
              "    border: 2px solid var(--fill-color);\n",
              "    border-color: transparent;\n",
              "    border-bottom-color: var(--fill-color);\n",
              "    animation:\n",
              "      spin 1s steps(1) infinite;\n",
              "  }\n",
              "\n",
              "  @keyframes spin {\n",
              "    0% {\n",
              "      border-color: transparent;\n",
              "      border-bottom-color: var(--fill-color);\n",
              "      border-left-color: var(--fill-color);\n",
              "    }\n",
              "    20% {\n",
              "      border-color: transparent;\n",
              "      border-left-color: var(--fill-color);\n",
              "      border-top-color: var(--fill-color);\n",
              "    }\n",
              "    30% {\n",
              "      border-color: transparent;\n",
              "      border-left-color: var(--fill-color);\n",
              "      border-top-color: var(--fill-color);\n",
              "      border-right-color: var(--fill-color);\n",
              "    }\n",
              "    40% {\n",
              "      border-color: transparent;\n",
              "      border-right-color: var(--fill-color);\n",
              "      border-top-color: var(--fill-color);\n",
              "    }\n",
              "    60% {\n",
              "      border-color: transparent;\n",
              "      border-right-color: var(--fill-color);\n",
              "    }\n",
              "    80% {\n",
              "      border-color: transparent;\n",
              "      border-right-color: var(--fill-color);\n",
              "      border-bottom-color: var(--fill-color);\n",
              "    }\n",
              "    90% {\n",
              "      border-color: transparent;\n",
              "      border-bottom-color: var(--fill-color);\n",
              "    }\n",
              "  }\n",
              "</style>\n",
              "\n",
              "  <script>\n",
              "    async function quickchart(key) {\n",
              "      const quickchartButtonEl =\n",
              "        document.querySelector('#' + key + ' button');\n",
              "      quickchartButtonEl.disabled = true;  // To prevent multiple clicks.\n",
              "      quickchartButtonEl.classList.add('colab-df-spinner');\n",
              "      try {\n",
              "        const charts = await google.colab.kernel.invokeFunction(\n",
              "            'suggestCharts', [key], {});\n",
              "      } catch (error) {\n",
              "        console.error('Error during call to suggestCharts:', error);\n",
              "      }\n",
              "      quickchartButtonEl.classList.remove('colab-df-spinner');\n",
              "      quickchartButtonEl.classList.add('colab-df-quickchart-complete');\n",
              "    }\n",
              "    (() => {\n",
              "      let quickchartButtonEl =\n",
              "        document.querySelector('#df-bdaeb919-792d-45f1-a871-73f571d2b2cb button');\n",
              "      quickchartButtonEl.style.display =\n",
              "        google.colab.kernel.accessAllowed ? 'block' : 'none';\n",
              "    })();\n",
              "  </script>\n",
              "</div>\n",
              "    </div>\n",
              "  </div>\n"
            ]
          },
          "metadata": {},
          "execution_count": 202
        }
      ]
    },
    {
      "cell_type": "code",
      "source": [],
      "metadata": {
        "id": "d_AHekdwp6qa"
      },
      "execution_count": null,
      "outputs": []
    }
  ],
  "metadata": {
    "colab": {
      "provenance": []
    },
    "kernelspec": {
      "display_name": "Python 3",
      "name": "python3"
    },
    "language_info": {
      "name": "python"
    }
  },
  "nbformat": 4,
  "nbformat_minor": 0
}
